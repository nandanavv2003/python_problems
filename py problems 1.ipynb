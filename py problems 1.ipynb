{
  "nbformat": 4,
  "nbformat_minor": 0,
  "metadata": {
    "colab": {
      "provenance": []
    },
    "kernelspec": {
      "name": "python3",
      "display_name": "Python 3"
    },
    "language_info": {
      "name": "python"
    }
  },
  "cells": [
    {
      "cell_type": "markdown",
      "source": [
        "https://www.hackerrank.com/contests/o2024w1/challenges/r-io-basics-read-2-nos-strings-and-a-line/problem"
      ],
      "metadata": {
        "id": "f3AzDqlBRTBB"
      }
    },
    {
      "cell_type": "code",
      "source": [
        "a,b=map(int,input().split())\n",
        "str1=input()\n",
        "str2=input()\n",
        "print(a,b, sep=' ')\n",
        "print(str1)\n",
        "print(str2)"
      ],
      "metadata": {
        "colab": {
          "base_uri": "https://localhost:8080/"
        },
        "id": "CN4LWM8WPbtd",
        "outputId": "739f277b-c0b3-4056-9851-5ce3f1adc23f"
      },
      "execution_count": null,
      "outputs": [
        {
          "output_type": "stream",
          "name": "stdout",
          "text": [
            "1 2\n",
            "two\n",
            "one plus two is three\n",
            "1 2\n",
            "two\n",
            "one plus two is three\n"
          ]
        }
      ]
    },
    {
      "cell_type": "markdown",
      "source": [
        "https://www.hackerrank.com/contests/o2024w1/challenges/r-swap-2-num-using-temp-var"
      ],
      "metadata": {
        "id": "nb3z--s3SHBt"
      }
    },
    {
      "cell_type": "code",
      "source": [
        "a,b=map(int, input().split())\n",
        "temp=a\n",
        "a=b\n",
        "b=temp\n",
        "print(a,b)"
      ],
      "metadata": {
        "colab": {
          "base_uri": "https://localhost:8080/"
        },
        "id": "4fbAqT73STDr",
        "outputId": "45197ef6-33d1-43c5-bb5b-c58cb1477ce3"
      },
      "execution_count": null,
      "outputs": [
        {
          "output_type": "stream",
          "name": "stdout",
          "text": [
            "1 2\n",
            "2 1\n"
          ]
        }
      ]
    },
    {
      "cell_type": "markdown",
      "source": [
        "https://www.hackerrank.com/contests/o2024w1/challenges/r-table-of-number"
      ],
      "metadata": {
        "id": "6O069pdmS5BI"
      }
    },
    {
      "cell_type": "code",
      "source": [
        "a,b=map(int, input().split())\n",
        "for i in range(1, b+1):\n",
        "    print(a,'*',i,'=',a*i)"
      ],
      "metadata": {
        "colab": {
          "base_uri": "https://localhost:8080/"
        },
        "id": "MtMUgQyRTGak",
        "outputId": "07175d6f-7e59-49fb-f885-9436ec3ab0da"
      },
      "execution_count": null,
      "outputs": [
        {
          "output_type": "stream",
          "name": "stdout",
          "text": [
            "2 2\n",
            "2 * 1 = 2\n",
            "2 * 2 = 4\n"
          ]
        }
      ]
    },
    {
      "cell_type": "markdown",
      "source": [
        "https://www.hackerrank.com/contests/o2024w1/challenges/r-sum-digits-of-number"
      ],
      "metadata": {
        "id": "usA0VbSnUl0q"
      }
    },
    {
      "cell_type": "code",
      "source": [
        "n= int(input())\n",
        "s=0\n",
        "while n>0:\n",
        "    a=n%10\n",
        "    s=s+a\n",
        "    n=n//10\n",
        "print(s)"
      ],
      "metadata": {
        "colab": {
          "base_uri": "https://localhost:8080/"
        },
        "id": "0DZab-ziVG-h",
        "outputId": "97f7c2d7-6d97-4ad2-c9db-f36d7f8f8f78"
      },
      "execution_count": null,
      "outputs": [
        {
          "output_type": "stream",
          "name": "stdout",
          "text": [
            "390\n",
            "12\n"
          ]
        }
      ]
    },
    {
      "cell_type": "markdown",
      "source": [
        "https://www.hackerrank.com/contests/o2024w1/challenges/atm-14-1/problem"
      ],
      "metadata": {
        "id": "S_gC2-qRmSkH"
      }
    },
    {
      "cell_type": "code",
      "source": [
        "a,b=input().split()\n",
        "a=int(a)\n",
        "b=float(b)\n",
        "if a%5==0 and a<=b:\n",
        "    number= b-a-0.50\n",
        "    print('%.2f' % number)\n",
        "else:\n",
        "    print(b)\n"
      ],
      "metadata": {
        "colab": {
          "base_uri": "https://localhost:8080/"
        },
        "id": "OTvbBeOopScd",
        "outputId": "97aa0a54-9e15-4e9d-bab8-3e48296eeee8"
      },
      "execution_count": null,
      "outputs": [
        {
          "output_type": "stream",
          "name": "stdout",
          "text": [
            "30 120.00\n",
            "89.50\n"
          ]
        }
      ]
    }
  ]
}